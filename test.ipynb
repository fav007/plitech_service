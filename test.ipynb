{
 "cells": [
  {
   "cell_type": "markdown",
   "metadata": {},
   "source": [
    "# ORM"
   ]
  },
  {
   "cell_type": "code",
   "execution_count": 1,
   "metadata": {},
   "outputs": [],
   "source": [
    "from sqlalchemy import Column,ForeignKey,Integer,String,create_engine\n",
    "from sqlalchemy.orm import declarative_base,relationship"
   ]
  },
  {
   "cell_type": "code",
   "execution_count": 2,
   "metadata": {},
   "outputs": [],
   "source": [
    "Base = declarative_base()\n",
    "engine = create_engine(\"sqlite+pysqlite:///:memory:\", echo=True, future=True)"
   ]
  },
  {
   "cell_type": "code",
   "execution_count": 4,
   "metadata": {},
   "outputs": [
    {
     "name": "stderr",
     "output_type": "stream",
     "text": [
      "C:\\Users\\USER\\AppData\\Local\\Temp\\ipykernel_21544\\74825287.py:1: SAWarning: This declarative base already contains a class with the same class name and module name as __main__.User, and will be replaced in the string-lookup table.\n",
      "  class User(Base):\n"
     ]
    },
    {
     "ename": "InvalidRequestError",
     "evalue": "Table 'user_account' is already defined for this MetaData instance.  Specify 'extend_existing=True' to redefine options and columns on an existing Table object.",
     "output_type": "error",
     "traceback": [
      "\u001b[1;31m---------------------------------------------------------------------------\u001b[0m",
      "\u001b[1;31mInvalidRequestError\u001b[0m                       Traceback (most recent call last)",
      "\u001b[1;32mc:\\Users\\USER\\code\\fav007\\DGD\\plitech_service\\test.ipynb Cell 4\u001b[0m line \u001b[0;36m1\n\u001b[1;32m----> <a href='vscode-notebook-cell:/c%3A/Users/USER/code/fav007/DGD/plitech_service/test.ipynb#W5sZmlsZQ%3D%3D?line=0'>1</a>\u001b[0m \u001b[39mclass\u001b[39;49;00m \u001b[39mUser\u001b[39;49;00m(Base):\n\u001b[0;32m      <a href='vscode-notebook-cell:/c%3A/Users/USER/code/fav007/DGD/plitech_service/test.ipynb#W5sZmlsZQ%3D%3D?line=2'>3</a>\u001b[0m     __tablename__ \u001b[39m=\u001b[39;49m \u001b[39m'\u001b[39;49m\u001b[39muser_account\u001b[39;49m\u001b[39m'\u001b[39;49m\n\u001b[0;32m      <a href='vscode-notebook-cell:/c%3A/Users/USER/code/fav007/DGD/plitech_service/test.ipynb#W5sZmlsZQ%3D%3D?line=4'>5</a>\u001b[0m     \u001b[39mid\u001b[39;49m \u001b[39m=\u001b[39;49m Column(Integer, primary_key\u001b[39m=\u001b[39;49m\u001b[39mTrue\u001b[39;49;00m)\n",
      "File \u001b[1;32mc:\\Users\\USER\\anaconda3\\envs\\dashboard\\Lib\\site-packages\\sqlalchemy\\orm\\decl_api.py:199\u001b[0m, in \u001b[0;36mDeclarativeMeta.__init__\u001b[1;34m(cls, classname, bases, dict_, **kw)\u001b[0m\n\u001b[0;32m    196\u001b[0m         \u001b[39mcls\u001b[39m\u001b[39m.\u001b[39m_sa_registry \u001b[39m=\u001b[39m reg\n\u001b[0;32m    198\u001b[0m \u001b[39mif\u001b[39;00m \u001b[39mnot\u001b[39;00m \u001b[39mcls\u001b[39m\u001b[39m.\u001b[39m\u001b[39m__dict__\u001b[39m\u001b[39m.\u001b[39mget(\u001b[39m\"\u001b[39m\u001b[39m__abstract__\u001b[39m\u001b[39m\"\u001b[39m, \u001b[39mFalse\u001b[39;00m):\n\u001b[1;32m--> 199\u001b[0m     _as_declarative(reg, \u001b[39mcls\u001b[39;49m, dict_)\n\u001b[0;32m    200\u001b[0m \u001b[39mtype\u001b[39m\u001b[39m.\u001b[39m\u001b[39m__init__\u001b[39m(\u001b[39mcls\u001b[39m, classname, bases, dict_)\n",
      "File \u001b[1;32mc:\\Users\\USER\\anaconda3\\envs\\dashboard\\Lib\\site-packages\\sqlalchemy\\orm\\decl_base.py:248\u001b[0m, in \u001b[0;36m_as_declarative\u001b[1;34m(registry, cls, dict_)\u001b[0m\n\u001b[0;32m    242\u001b[0m \u001b[39mdef\u001b[39;00m \u001b[39m_as_declarative\u001b[39m(\n\u001b[0;32m    243\u001b[0m     registry: _RegistryType, \u001b[39mcls\u001b[39m: Type[Any], dict_: _ClassDict\n\u001b[0;32m    244\u001b[0m ) \u001b[39m-\u001b[39m\u001b[39m>\u001b[39m Optional[_MapperConfig]:\n\u001b[0;32m    245\u001b[0m \n\u001b[0;32m    246\u001b[0m     \u001b[39m# declarative scans the class for attributes.  no table or mapper\u001b[39;00m\n\u001b[0;32m    247\u001b[0m     \u001b[39m# args passed separately.\u001b[39;00m\n\u001b[1;32m--> 248\u001b[0m     \u001b[39mreturn\u001b[39;00m _MapperConfig\u001b[39m.\u001b[39;49msetup_mapping(registry, \u001b[39mcls\u001b[39;49m, dict_, \u001b[39mNone\u001b[39;49;00m, {})\n",
      "File \u001b[1;32mc:\\Users\\USER\\anaconda3\\envs\\dashboard\\Lib\\site-packages\\sqlalchemy\\orm\\decl_base.py:329\u001b[0m, in \u001b[0;36m_MapperConfig.setup_mapping\u001b[1;34m(cls, registry, cls_, dict_, table, mapper_kw)\u001b[0m\n\u001b[0;32m    325\u001b[0m     \u001b[39mreturn\u001b[39;00m _DeferredMapperConfig(\n\u001b[0;32m    326\u001b[0m         registry, cls_, dict_, table, mapper_kw\n\u001b[0;32m    327\u001b[0m     )\n\u001b[0;32m    328\u001b[0m \u001b[39melse\u001b[39;00m:\n\u001b[1;32m--> 329\u001b[0m     \u001b[39mreturn\u001b[39;00m _ClassScanMapperConfig(\n\u001b[0;32m    330\u001b[0m         registry, cls_, dict_, table, mapper_kw\n\u001b[0;32m    331\u001b[0m     )\n",
      "File \u001b[1;32mc:\\Users\\USER\\anaconda3\\envs\\dashboard\\Lib\\site-packages\\sqlalchemy\\orm\\decl_base.py:578\u001b[0m, in \u001b[0;36m_ClassScanMapperConfig.__init__\u001b[1;34m(self, registry, cls_, dict_, table, mapper_kw)\u001b[0m\n\u001b[0;32m    574\u001b[0m \u001b[39mself\u001b[39m\u001b[39m.\u001b[39m_extract_mappable_attributes()\n\u001b[0;32m    576\u001b[0m \u001b[39mself\u001b[39m\u001b[39m.\u001b[39m_extract_declared_columns()\n\u001b[1;32m--> 578\u001b[0m \u001b[39mself\u001b[39;49m\u001b[39m.\u001b[39;49m_setup_table(table)\n\u001b[0;32m    580\u001b[0m \u001b[39mself\u001b[39m\u001b[39m.\u001b[39m_setup_inheriting_columns(mapper_kw)\n\u001b[0;32m    582\u001b[0m \u001b[39mself\u001b[39m\u001b[39m.\u001b[39m_early_mapping(mapper_kw)\n",
      "File \u001b[1;32mc:\\Users\\USER\\anaconda3\\envs\\dashboard\\Lib\\site-packages\\sqlalchemy\\orm\\decl_base.py:1663\u001b[0m, in \u001b[0;36m_ClassScanMapperConfig._setup_table\u001b[1;34m(self, table)\u001b[0m\n\u001b[0;32m   1655\u001b[0m             table_kw[\u001b[39m\"\u001b[39m\u001b[39mautoload\u001b[39m\u001b[39m\"\u001b[39m] \u001b[39m=\u001b[39m \u001b[39mTrue\u001b[39;00m\n\u001b[0;32m   1657\u001b[0m         sorted_columns \u001b[39m=\u001b[39m \u001b[39msorted\u001b[39m(\n\u001b[0;32m   1658\u001b[0m             declared_columns,\n\u001b[0;32m   1659\u001b[0m             key\u001b[39m=\u001b[39m\u001b[39mlambda\u001b[39;00m c: column_ordering\u001b[39m.\u001b[39mget(c, \u001b[39m0\u001b[39m),\n\u001b[0;32m   1660\u001b[0m         )\n\u001b[0;32m   1661\u001b[0m         table \u001b[39m=\u001b[39m \u001b[39mself\u001b[39m\u001b[39m.\u001b[39mset_cls_attribute(\n\u001b[0;32m   1662\u001b[0m             \u001b[39m\"\u001b[39m\u001b[39m__table__\u001b[39m\u001b[39m\"\u001b[39m,\n\u001b[1;32m-> 1663\u001b[0m             table_cls(\n\u001b[0;32m   1664\u001b[0m                 tablename,\n\u001b[0;32m   1665\u001b[0m                 \u001b[39mself\u001b[39;49m\u001b[39m.\u001b[39;49m_metadata_for_cls(manager),\n\u001b[0;32m   1666\u001b[0m                 \u001b[39m*\u001b[39;49msorted_columns,\n\u001b[0;32m   1667\u001b[0m                 \u001b[39m*\u001b[39;49margs,\n\u001b[0;32m   1668\u001b[0m                 \u001b[39m*\u001b[39;49m\u001b[39m*\u001b[39;49mtable_kw,\n\u001b[0;32m   1669\u001b[0m             ),\n\u001b[0;32m   1670\u001b[0m         )\n\u001b[0;32m   1671\u001b[0m \u001b[39melse\u001b[39;00m:\n\u001b[0;32m   1672\u001b[0m     \u001b[39mif\u001b[39;00m table \u001b[39mis\u001b[39;00m \u001b[39mNone\u001b[39;00m:\n",
      "File \u001b[1;32m<string>:2\u001b[0m, in \u001b[0;36m__new__\u001b[1;34m(cls, *args, **kw)\u001b[0m\n",
      "File \u001b[1;32mc:\\Users\\USER\\anaconda3\\envs\\dashboard\\Lib\\site-packages\\sqlalchemy\\util\\deprecations.py:277\u001b[0m, in \u001b[0;36mdeprecated_params.<locals>.decorate.<locals>.warned\u001b[1;34m(fn, *args, **kwargs)\u001b[0m\n\u001b[0;32m    270\u001b[0m     \u001b[39mif\u001b[39;00m m \u001b[39min\u001b[39;00m kwargs:\n\u001b[0;32m    271\u001b[0m         _warn_with_version(\n\u001b[0;32m    272\u001b[0m             messages[m],\n\u001b[0;32m    273\u001b[0m             versions[m],\n\u001b[0;32m    274\u001b[0m             version_warnings[m],\n\u001b[0;32m    275\u001b[0m             stacklevel\u001b[39m=\u001b[39m\u001b[39m3\u001b[39m,\n\u001b[0;32m    276\u001b[0m         )\n\u001b[1;32m--> 277\u001b[0m \u001b[39mreturn\u001b[39;00m fn(\u001b[39m*\u001b[39;49margs, \u001b[39m*\u001b[39;49m\u001b[39m*\u001b[39;49mkwargs)\n",
      "File \u001b[1;32mc:\\Users\\USER\\anaconda3\\envs\\dashboard\\Lib\\site-packages\\sqlalchemy\\sql\\schema.py:428\u001b[0m, in \u001b[0;36mTable.__new__\u001b[1;34m(cls, *args, **kw)\u001b[0m\n\u001b[0;32m    421\u001b[0m \u001b[39m@util\u001b[39m\u001b[39m.\u001b[39mdeprecated_params(\n\u001b[0;32m    422\u001b[0m     mustexist\u001b[39m=\u001b[39m(\n\u001b[0;32m    423\u001b[0m         \u001b[39m\"\u001b[39m\u001b[39m1.4\u001b[39m\u001b[39m\"\u001b[39m,\n\u001b[1;32m   (...)\u001b[0m\n\u001b[0;32m    426\u001b[0m )\n\u001b[0;32m    427\u001b[0m \u001b[39mdef\u001b[39;00m \u001b[39m__new__\u001b[39m(\u001b[39mcls\u001b[39m, \u001b[39m*\u001b[39margs: Any, \u001b[39m*\u001b[39m\u001b[39m*\u001b[39mkw: Any) \u001b[39m-\u001b[39m\u001b[39m>\u001b[39m Any:\n\u001b[1;32m--> 428\u001b[0m     \u001b[39mreturn\u001b[39;00m \u001b[39mcls\u001b[39;49m\u001b[39m.\u001b[39;49m_new(\u001b[39m*\u001b[39;49margs, \u001b[39m*\u001b[39;49m\u001b[39m*\u001b[39;49mkw)\n",
      "File \u001b[1;32mc:\\Users\\USER\\anaconda3\\envs\\dashboard\\Lib\\site-packages\\sqlalchemy\\sql\\schema.py:460\u001b[0m, in \u001b[0;36mTable._new\u001b[1;34m(cls, *args, **kw)\u001b[0m\n\u001b[0;32m    458\u001b[0m \u001b[39mif\u001b[39;00m key \u001b[39min\u001b[39;00m metadata\u001b[39m.\u001b[39mtables:\n\u001b[0;32m    459\u001b[0m     \u001b[39mif\u001b[39;00m \u001b[39mnot\u001b[39;00m keep_existing \u001b[39mand\u001b[39;00m \u001b[39mnot\u001b[39;00m extend_existing \u001b[39mand\u001b[39;00m \u001b[39mbool\u001b[39m(args):\n\u001b[1;32m--> 460\u001b[0m         \u001b[39mraise\u001b[39;00m exc\u001b[39m.\u001b[39mInvalidRequestError(\n\u001b[0;32m    461\u001b[0m             \u001b[39m\"\u001b[39m\u001b[39mTable \u001b[39m\u001b[39m'\u001b[39m\u001b[39m%s\u001b[39;00m\u001b[39m'\u001b[39m\u001b[39m is already defined for this MetaData \u001b[39m\u001b[39m\"\u001b[39m\n\u001b[0;32m    462\u001b[0m             \u001b[39m\"\u001b[39m\u001b[39minstance.  Specify \u001b[39m\u001b[39m'\u001b[39m\u001b[39mextend_existing=True\u001b[39m\u001b[39m'\u001b[39m\u001b[39m \u001b[39m\u001b[39m\"\u001b[39m\n\u001b[0;32m    463\u001b[0m             \u001b[39m\"\u001b[39m\u001b[39mto redefine \u001b[39m\u001b[39m\"\u001b[39m\n\u001b[0;32m    464\u001b[0m             \u001b[39m\"\u001b[39m\u001b[39moptions and columns on an \u001b[39m\u001b[39m\"\u001b[39m\n\u001b[0;32m    465\u001b[0m             \u001b[39m\"\u001b[39m\u001b[39mexisting Table object.\u001b[39m\u001b[39m\"\u001b[39m \u001b[39m%\u001b[39m key\n\u001b[0;32m    466\u001b[0m         )\n\u001b[0;32m    467\u001b[0m     table \u001b[39m=\u001b[39m metadata\u001b[39m.\u001b[39mtables[key]\n\u001b[0;32m    468\u001b[0m     \u001b[39mif\u001b[39;00m extend_existing:\n",
      "\u001b[1;31mInvalidRequestError\u001b[0m: Table 'user_account' is already defined for this MetaData instance.  Specify 'extend_existing=True' to redefine options and columns on an existing Table object."
     ]
    }
   ],
   "source": [
    "class User(Base):\n",
    "    \n",
    "    __tablename__ = 'user_account'\n",
    "    \n",
    "    id = Column(Integer, primary_key=True)\n",
    "    name = Column(String(30))\n",
    "    fullname = Column(String(100))\n",
    "    \n",
    "    \n",
    "    \n",
    "    "
   ]
  },
  {
   "cell_type": "code",
   "execution_count": null,
   "metadata": {},
   "outputs": [],
   "source": []
  }
 ],
 "metadata": {
  "kernelspec": {
   "display_name": "dashboard",
   "language": "python",
   "name": "python3"
  },
  "language_info": {
   "codemirror_mode": {
    "name": "ipython",
    "version": 3
   },
   "file_extension": ".py",
   "mimetype": "text/x-python",
   "name": "python",
   "nbconvert_exporter": "python",
   "pygments_lexer": "ipython3",
   "version": "3.11.0"
  },
  "orig_nbformat": 4
 },
 "nbformat": 4,
 "nbformat_minor": 2
}
